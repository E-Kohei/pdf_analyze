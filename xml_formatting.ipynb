{
 "cells": [
  {
   "cell_type": "code",
   "execution_count": 1,
   "id": "editorial-anime",
   "metadata": {},
   "outputs": [],
   "source": [
    "import io\n",
    "import numpy as np\n",
    "import pandas as pd\n",
    "import cv2\n",
    "import fitz\n",
    "import pyocr\n",
    "from PIL import Image\n",
    "from matplotlib import pyplot as plt"
   ]
  },
  {
   "cell_type": "code",
   "execution_count": 7,
   "id": "french-clerk",
   "metadata": {},
   "outputs": [],
   "source": [
    "import defusedxml.ElementTree as ET"
   ]
  },
  {
   "cell_type": "code",
   "execution_count": 8,
   "id": "compatible-doubt",
   "metadata": {},
   "outputs": [
    {
     "name": "stdout",
     "output_type": "stream",
     "text": [
      "Help on function parse in module defusedxml.common:\n",
      "\n",
      "parse(source, parser=None, forbid_dtd=False, forbid_entities=True, forbid_external=True)\n",
      "\n"
     ]
    }
   ],
   "source": [
    "help(parse)"
   ]
  },
  {
   "cell_type": "code",
   "execution_count": null,
   "id": "expressed-weekend",
   "metadata": {},
   "outputs": [],
   "source": []
  },
  {
   "cell_type": "code",
   "execution_count": 22,
   "id": "lyric-scanner",
   "metadata": {},
   "outputs": [],
   "source": [
    "tree = parse(\"patterns/pattern_test.xml\")\n",
    "root = tree.getroot()"
   ]
  },
  {
   "cell_type": "code",
   "execution_count": 23,
   "id": "enabling-onion",
   "metadata": {},
   "outputs": [
    {
     "name": "stdout",
     "output_type": "stream",
     "text": [
      "textbox {'id': '1', 'position': '1000,650,1600,850', 'action': 'check_format', 'name': 'ryoushusho'} \n",
      "    領収書\n",
      "  \n",
      "textbox {'id': '2', 'position': '1050,1500,1250,1600', 'action': 'check_format', 'name': 'kingaku'} 金額\n",
      "textbox {'id': '3', 'position': '1750,1500,2400,1700', 'action': 'extract_text', 'name': 'billing'} None\n",
      "textbox {'id': '4', 'positoin': '3100,1050,3400,1250', 'action': 'check_format'} None\n",
      "textbox {'id': '5', 'position': '1000,ref1.y1,3000,ref1.y2', 'action': 'extract_text', 'name': 'company'} None\n",
      "table {'id': '5', 'position': '3500,1400,5800,2000', 'shape': '2,2'} \n",
      "    \n"
     ]
    }
   ],
   "source": [
    "for i in root:\n",
    "    print(i.tag, i.attrib, i.text)"
   ]
  },
  {
   "cell_type": "code",
   "execution_count": 18,
   "id": "amended-friend",
   "metadata": {},
   "outputs": [
    {
     "ename": "SyntaxError",
     "evalue": "invalid syntax (<ipython-input-18-4703e742527f>, line 1)",
     "output_type": "error",
     "traceback": [
      "\u001b[0;36m  File \u001b[0;32m\"<ipython-input-18-4703e742527f>\"\u001b[0;36m, line \u001b[0;32m1\u001b[0m\n\u001b[0;31m    et.\u001b[0m\n\u001b[0m       ^\u001b[0m\n\u001b[0;31mSyntaxError\u001b[0m\u001b[0;31m:\u001b[0m invalid syntax\n"
     ]
    }
   ],
   "source": [
    "def match_score(pattern_file, page, img_page):\n",
    "    total = 0\n",
    "    match = 0\n",
    "    tree = ET.parse(pattern_file)\n",
    "    root = tree.getroot()\n",
    "    for pattern_item in root:\n",
    "        \n",
    "    \n",
    "\n",
    "def parse_document(file):\n",
    "    tree = ET.parse(file)\n",
    "    root = tree.getroot()\n",
    "    for pattern_item in root:\n",
    "        if item.tag == \"textbox\":\n",
    "            "
   ]
  },
  {
   "cell_type": "code",
   "execution_count": null,
   "id": "respected-airplane",
   "metadata": {},
   "outputs": [],
   "source": []
  }
 ],
 "metadata": {
  "kernelspec": {
   "display_name": "Python 3",
   "language": "python",
   "name": "python3"
  },
  "language_info": {
   "codemirror_mode": {
    "name": "ipython",
    "version": 3
   },
   "file_extension": ".py",
   "mimetype": "text/x-python",
   "name": "python",
   "nbconvert_exporter": "python",
   "pygments_lexer": "ipython3",
   "version": "3.8.7"
  }
 },
 "nbformat": 4,
 "nbformat_minor": 5
}
